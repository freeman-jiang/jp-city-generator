{
 "cells": [
  {
   "cell_type": "code",
   "execution_count": 15,
   "metadata": {},
   "outputs": [],
   "source": [
    "import pandas as pd\n",
    "\n",
    "df = pd.read_csv(\"cities_in_japan_2023.csv\")"
   ]
  },
  {
   "cell_type": "code",
   "execution_count": 16,
   "metadata": {},
   "outputs": [
    {
     "data": {
      "text/html": [
       "<div>\n",
       "<style scoped>\n",
       "    .dataframe tbody tr th:only-of-type {\n",
       "        vertical-align: middle;\n",
       "    }\n",
       "\n",
       "    .dataframe tbody tr th {\n",
       "        vertical-align: top;\n",
       "    }\n",
       "\n",
       "    .dataframe thead th {\n",
       "        text-align: right;\n",
       "    }\n",
       "</style>\n",
       "<table border=\"1\" class=\"dataframe\">\n",
       "  <thead>\n",
       "    <tr style=\"text-align: right;\">\n",
       "      <th></th>\n",
       "      <th>id</th>\n",
       "      <th>prefecture_id</th>\n",
       "      <th>city_en</th>\n",
       "      <th>city_ja</th>\n",
       "      <th>special_district_ja</th>\n",
       "    </tr>\n",
       "  </thead>\n",
       "  <tbody>\n",
       "    <tr>\n",
       "      <th>0</th>\n",
       "      <td>1100</td>\n",
       "      <td>1</td>\n",
       "      <td>Sapporo</td>\n",
       "      <td>札幌市</td>\n",
       "      <td>NaN</td>\n",
       "    </tr>\n",
       "    <tr>\n",
       "      <th>1</th>\n",
       "      <td>1101</td>\n",
       "      <td>1</td>\n",
       "      <td>Chūō-ku, Sapporo</td>\n",
       "      <td>札幌市</td>\n",
       "      <td>中央区</td>\n",
       "    </tr>\n",
       "    <tr>\n",
       "      <th>2</th>\n",
       "      <td>1102</td>\n",
       "      <td>1</td>\n",
       "      <td>Kita-ku, Sapporo</td>\n",
       "      <td>札幌市</td>\n",
       "      <td>北区</td>\n",
       "    </tr>\n",
       "    <tr>\n",
       "      <th>3</th>\n",
       "      <td>1103</td>\n",
       "      <td>1</td>\n",
       "      <td>Higashi-ku, Sapporo</td>\n",
       "      <td>札幌市</td>\n",
       "      <td>東区</td>\n",
       "    </tr>\n",
       "    <tr>\n",
       "      <th>4</th>\n",
       "      <td>1104</td>\n",
       "      <td>1</td>\n",
       "      <td>Shiroishi-ku, Sapporo</td>\n",
       "      <td>札幌市</td>\n",
       "      <td>白石区</td>\n",
       "    </tr>\n",
       "  </tbody>\n",
       "</table>\n",
       "</div>"
      ],
      "text/plain": [
       "     id  prefecture_id                city_en city_ja special_district_ja\n",
       "0  1100              1                Sapporo     札幌市                 NaN\n",
       "1  1101              1       Chūō-ku, Sapporo     札幌市                 中央区\n",
       "2  1102              1       Kita-ku, Sapporo     札幌市                  北区\n",
       "3  1103              1    Higashi-ku, Sapporo     札幌市                  東区\n",
       "4  1104              1  Shiroishi-ku, Sapporo     札幌市                 白石区"
      ]
     },
     "execution_count": 16,
     "metadata": {},
     "output_type": "execute_result"
    }
   ],
   "source": [
    "df.head()"
   ]
  },
  {
   "cell_type": "code",
   "execution_count": 17,
   "metadata": {},
   "outputs": [
    {
     "data": {
      "text/plain": [
       "id                        0\n",
       "prefecture_id             0\n",
       "city_en                   3\n",
       "city_ja                   0\n",
       "special_district_ja    1747\n",
       "dtype: int64"
      ]
     },
     "execution_count": 17,
     "metadata": {},
     "output_type": "execute_result"
    }
   ],
   "source": [
    "df.isna().sum()"
   ]
  },
  {
   "cell_type": "code",
   "execution_count": 18,
   "metadata": {},
   "outputs": [
    {
     "data": {
      "text/plain": [
       "0            sapporo\n",
       "1            chūō-ku\n",
       "2            kita-ku\n",
       "3         higashi-ku\n",
       "4       shiroishi-ku\n",
       "            ...     \n",
       "1913        kumejima\n",
       "1914           yaese\n",
       "1915          tarama\n",
       "1916        taketomi\n",
       "1917        yonaguni\n",
       "Name: city_en, Length: 1915, dtype: object"
      ]
     },
     "execution_count": 18,
     "metadata": {},
     "output_type": "execute_result"
    }
   ],
   "source": [
    "# Clean up:\n",
    "# Remove comma after\n",
    "# Remove all parentheses and anything in them\n",
    "# Remove all spaces\n",
    "# Remove apostrophes\n",
    "# Lower case everything\n",
    "cities_raw = df[\"city_en\"].dropna().apply(\n",
    "    lambda x: x.split(\",\")[0].lower().split(\"(\")[0].split(\" \")[0].replace(\"'\", \"\").strip())\n",
    "\n",
    "\n",
    "cities_raw.to_csv(\"cities_raw.csv\", index=False)\n",
    "cities_raw"
   ]
  },
  {
   "cell_type": "code",
   "execution_count": null,
   "metadata": {},
   "outputs": [],
   "source": []
  }
 ],
 "metadata": {
  "kernelspec": {
   "display_name": ".venv",
   "language": "python",
   "name": "python3"
  },
  "language_info": {
   "codemirror_mode": {
    "name": "ipython",
    "version": 3
   },
   "file_extension": ".py",
   "mimetype": "text/x-python",
   "name": "python",
   "nbconvert_exporter": "python",
   "pygments_lexer": "ipython3",
   "version": "3.12.8"
  }
 },
 "nbformat": 4,
 "nbformat_minor": 2
}
